{
 "cells": [
  {
   "cell_type": "code",
   "execution_count": 8,
   "metadata": {},
   "outputs": [],
   "source": [
    "import requests\n",
    "import json\n",
    "import pandas as pd\n",
    "import numpy as np\n",
    "import pandas as pd\n",
    "import os\n",
    "import seaborn as sns\n",
    "import matplotlib.pyplot as plt\n",
    "import sys\n",
    "import re\n",
    "import json\n",
    "import re\n",
    "from collections import Counter\n",
    "import xgboost as xgb\n",
    "from xgboost import plot_importance\n",
    "from datetime import datetime\n"
   ]
  },
  {
   "cell_type": "code",
   "execution_count": 9,
   "metadata": {},
   "outputs": [
    {
     "name": "stdout",
     "output_type": "stream",
     "text": [
      "{'detail': 'Model not trained'}\n"
     ]
    }
   ],
   "source": [
    "print(requests.get('http://127.0.0.1:8000/health').json())"
   ]
  },
  {
   "cell_type": "code",
   "execution_count": 10,
   "metadata": {},
   "outputs": [
    {
     "name": "stdout",
     "output_type": "stream",
     "text": [
      "{'status': 'Model Trained'}\n"
     ]
    }
   ],
   "source": [
    "print(requests.get('http://127.0.0.1:8000/train').json())"
   ]
  },
  {
   "cell_type": "code",
   "execution_count": null,
   "metadata": {},
   "outputs": [],
   "source": []
  },
  {
   "cell_type": "code",
   "execution_count": 15,
   "metadata": {},
   "outputs": [],
   "source": [
    "import json\n",
    "\n",
    "data = {\n",
    "            \"flights\": [\n",
    "                {\n",
    "                    \"OPERA\": \"Aerolineas Argentinas\", \n",
    "                    \"TIPOVUELO\": \"N\", \n",
    "                    \"MES\": 3\n",
    "                }\n",
    "            ]\n",
    "        }\n",
    "\n",
    "response = requests.post('http://127.0.0.1:8000/predict', json=data)\n"
   ]
  },
  {
   "cell_type": "code",
   "execution_count": 16,
   "metadata": {},
   "outputs": [
    {
     "data": {
      "text/plain": [
       "{'status': 'OK', 'predict': [1]}"
      ]
     },
     "execution_count": 16,
     "metadata": {},
     "output_type": "execute_result"
    }
   ],
   "source": [
    "response.json()"
   ]
  },
  {
   "cell_type": "code",
   "execution_count": 13,
   "metadata": {},
   "outputs": [],
   "source": [
    "\n",
    "import json\n",
    "\n",
    "data = {\n",
    "            \"flights\": [\n",
    "                {\n",
    "                    \"OPERA\": \"Aerolineas Argentinas\", \n",
    "                    \"TIPOVUELO\": \"N\", \n",
    "                    \"MES\": 23\n",
    "                }\n",
    "            ]\n",
    "        }\n",
    "\n",
    "response = requests.post('http://127.0.0.1:8000/predict', json=data)\n"
   ]
  },
  {
   "cell_type": "code",
   "execution_count": 14,
   "metadata": {},
   "outputs": [
    {
     "data": {
      "text/plain": [
       "{'detail': 'Month value over 12'}"
      ]
     },
     "execution_count": 14,
     "metadata": {},
     "output_type": "execute_result"
    }
   ],
   "source": [
    "response.json()"
   ]
  },
  {
   "cell_type": "code",
   "execution_count": null,
   "metadata": {},
   "outputs": [],
   "source": []
  },
  {
   "cell_type": "code",
   "execution_count": 17,
   "metadata": {},
   "outputs": [],
   "source": [
    "import requests\n",
    "\n",
    "url = 'https://advana-challenge-check-api-cr-k4hdbggvoq-uc.a.run.app/software-engineer'\n",
    "data = {\n",
    "    \"name\": \"Martin Marcos\",\n",
    "    \"mail\": \"martinrmarcos@hotmail.com\",\n",
    "    \"github_url\": \"https://github.com/martinrmarcos/LATAM-Software-Engineer-ML---LLMs-Challenge\",\n",
    "    \"api_url\": \"\"\n",
    "}\n",
    "response = requests.post(url, json=data)"
   ]
  },
  {
   "cell_type": "code",
   "execution_count": 20,
   "metadata": {},
   "outputs": [
    {
     "data": {
      "text/plain": [
       "{'status': 'OK', 'detail': 'your request was received'}"
      ]
     },
     "execution_count": 20,
     "metadata": {},
     "output_type": "execute_result"
    }
   ],
   "source": [
    "response.json()"
   ]
  },
  {
   "cell_type": "code",
   "execution_count": null,
   "metadata": {},
   "outputs": [],
   "source": []
  }
 ],
 "metadata": {
  "kernelspec": {
   "display_name": "Python 3",
   "language": "python",
   "name": "python3"
  },
  "language_info": {
   "codemirror_mode": {
    "name": "ipython",
    "version": 3
   },
   "file_extension": ".py",
   "mimetype": "text/x-python",
   "name": "python",
   "nbconvert_exporter": "python",
   "pygments_lexer": "ipython3",
   "version": "3.8.3"
  },
  "orig_nbformat": 4
 },
 "nbformat": 4,
 "nbformat_minor": 2
}
